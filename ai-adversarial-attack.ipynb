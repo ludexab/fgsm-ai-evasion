{
 "cells": [
  {
   "cell_type": "raw",
   "id": "6f169ba8-7ba7-4c64-af03-4477493b2494",
   "metadata": {},
   "source": [
    "1. Import Dependencies"
   ]
  },
  {
   "cell_type": "code",
   "execution_count": 10,
   "id": "7856968c-261c-4bde-9b1e-f87b28d6d185",
   "metadata": {},
   "outputs": [],
   "source": [
    "import tensorflow as tf\n",
    "import numpy as np\n",
    "import matplotlib.pyplot as plt\n",
    "from tensorflow.keras.models import Sequential\n",
    "from tensorflow.keras.layers import Dense, Flatten\n",
    "from tensorflow.keras.datasets import mnist"
   ]
  },
  {
   "cell_type": "raw",
   "id": "356abc71-8842-4cf9-90a9-3e92eb230ca2",
   "metadata": {},
   "source": [
    "2. Load and Preprocess MNIST Dataset"
   ]
  },
  {
   "cell_type": "code",
   "execution_count": 11,
   "id": "80dfdad7-e472-496e-892e-646d97c6288a",
   "metadata": {},
   "outputs": [],
   "source": [
    "# Load MNIST dataset\n",
    "(x_train, y_train), (x_test, y_test) = mnist.load_data()\n",
    "# Normalize the images to [0,1] range\n",
    "x_train, x_test = x_train / 255.0, x_test / 255.0"
   ]
  },
  {
   "cell_type": "raw",
   "id": "7bd23648-abad-4445-9c3f-29d25bee5de3",
   "metadata": {},
   "source": [
    "3. Build a Simple Neural Network"
   ]
  },
  {
   "cell_type": "code",
   "execution_count": 12,
   "id": "99c44a6b-8e70-478a-b306-25db9482470b",
   "metadata": {},
   "outputs": [
    {
     "name": "stdout",
     "output_type": "stream",
     "text": [
      "Epoch 1/5\n"
     ]
    },
    {
     "name": "stderr",
     "output_type": "stream",
     "text": [
      "2025-02-03 03:26:02.002642: W external/local_xla/xla/tsl/framework/cpu_allocator_impl.cc:83] Allocation of 188160000 exceeds 10% of free system memory.\n"
     ]
    },
    {
     "name": "stdout",
     "output_type": "stream",
     "text": [
      "\u001b[1m1874/1875\u001b[0m \u001b[32m━━━━━━━━━━━━━━━━━━━\u001b[0m\u001b[37m━\u001b[0m \u001b[1m0s\u001b[0m 12ms/step - accuracy: 0.8812 - loss: 0.4226 "
     ]
    },
    {
     "name": "stderr",
     "output_type": "stream",
     "text": [
      "2025-02-03 03:26:27.509132: W external/local_xla/xla/tsl/framework/cpu_allocator_impl.cc:83] Allocation of 31360000 exceeds 10% of free system memory.\n"
     ]
    },
    {
     "name": "stdout",
     "output_type": "stream",
     "text": [
      "\u001b[1m1875/1875\u001b[0m \u001b[32m━━━━━━━━━━━━━━━━━━━━\u001b[0m\u001b[37m\u001b[0m \u001b[1m27s\u001b[0m 14ms/step - accuracy: 0.8813 - loss: 0.4224 - val_accuracy: 0.9584 - val_loss: 0.1363\n",
      "Epoch 2/5\n",
      "\u001b[1m1875/1875\u001b[0m \u001b[32m━━━━━━━━━━━━━━━━━━━━\u001b[0m\u001b[37m\u001b[0m \u001b[1m22s\u001b[0m 12ms/step - accuracy: 0.9644 - loss: 0.1199 - val_accuracy: 0.9719 - val_loss: 0.0909\n",
      "Epoch 3/5\n",
      "\u001b[1m1875/1875\u001b[0m \u001b[32m━━━━━━━━━━━━━━━━━━━━\u001b[0m\u001b[37m\u001b[0m \u001b[1m22s\u001b[0m 11ms/step - accuracy: 0.9777 - loss: 0.0764 - val_accuracy: 0.9742 - val_loss: 0.0833\n",
      "Epoch 4/5\n",
      "\u001b[1m1875/1875\u001b[0m \u001b[32m━━━━━━━━━━━━━━━━━━━━\u001b[0m\u001b[37m\u001b[0m \u001b[1m22s\u001b[0m 11ms/step - accuracy: 0.9836 - loss: 0.0531 - val_accuracy: 0.9780 - val_loss: 0.0718\n",
      "Epoch 5/5\n",
      "\u001b[1m1875/1875\u001b[0m \u001b[32m━━━━━━━━━━━━━━━━━━━━\u001b[0m\u001b[37m\u001b[0m \u001b[1m22s\u001b[0m 12ms/step - accuracy: 0.9871 - loss: 0.0421 - val_accuracy: 0.9767 - val_loss: 0.0763\n"
     ]
    },
    {
     "data": {
      "text/plain": [
       "<keras.src.callbacks.history.History at 0x77994ddab860>"
      ]
     },
     "execution_count": 12,
     "metadata": {},
     "output_type": "execute_result"
    }
   ],
   "source": [
    "# Define a simple feedforward neural network\n",
    "model = Sequential([\n",
    "Flatten(input_shape=(28, 28)), # Flatten the 28x28 image into a vector\n",
    "Dense(128, activation='relu'), # Hidden layer with ReLU activation\n",
    "Dense(10, activation='softmax') # Output layer for 10 classes\n",
    "])\n",
    "# Compile the model\n",
    "model.compile(optimizer='adam',\n",
    "loss='sparse_categorical_crossentropy',\n",
    "metrics=['accuracy'])\n",
    "# Train the model\n",
    "model.fit(x_train, y_train, epochs=5, validation_data=(x_test, y_test))"
   ]
  },
  {
   "cell_type": "raw",
   "id": "9582a64f-5d0f-4c54-8ff7-d2d5bd788f1c",
   "metadata": {},
   "source": [
    "4. Evaluate Model Performance"
   ]
  },
  {
   "cell_type": "code",
   "execution_count": 13,
   "id": "03b04209-28e4-4b56-9579-afdb51932e8a",
   "metadata": {},
   "outputs": [
    {
     "name": "stderr",
     "output_type": "stream",
     "text": [
      "2025-02-03 03:28:25.603732: W external/local_xla/xla/tsl/framework/cpu_allocator_impl.cc:83] Allocation of 31360000 exceeds 10% of free system memory.\n"
     ]
    },
    {
     "name": "stdout",
     "output_type": "stream",
     "text": [
      "313/313 - 2s - 6ms/step - accuracy: 0.9767 - loss: 0.0763\n",
      "Test Accuracy on Clean Data: 97.67%\n"
     ]
    }
   ],
   "source": [
    "# Evaluate on clean test data\n",
    "test_loss, test_acc = model.evaluate(x_test, y_test, verbose=2)\n",
    "print(f\"Test Accuracy on Clean Data: {test_acc * 100:.2f}%\")"
   ]
  },
  {
   "cell_type": "raw",
   "id": "500cd4e5-13ff-4223-8d6b-b0497909c39f",
   "metadata": {},
   "source": [
    "5. Generating an Adversarial Example Using FGSM"
   ]
  },
  {
   "cell_type": "code",
   "execution_count": 14,
   "id": "b519789b-058f-4958-ba65-af23df82d752",
   "metadata": {},
   "outputs": [],
   "source": [
    "# Convert the model into a TensorFlow function for gradient calculation\n",
    "loss_object = tf.keras.losses.SparseCategoricalCrossentropy()\n",
    "def create_adversarial_example(model, image, label, epsilon=0.1):\n",
    "    image = tf.convert_to_tensor(image.reshape((1, 28, 28)))\n",
    "    label = tf.convert_to_tensor([label])\n",
    "    with tf.GradientTape() as tape:\n",
    "        tape.watch(image)\n",
    "        prediction = model(image)\n",
    "        loss = loss_object(label, prediction)\n",
    "    # Compute the gradient of the loss w.r.t the input image\n",
    "    gradient = tape.gradient(loss, image)\n",
    "    signed_grad = tf.sign(gradient)\n",
    "    # Generate the adversarial example\n",
    "    adversarial_image = image + epsilon * signed_grad\n",
    "    adversarial_image = tf.clip_by_value(adversarial_image, 0, 1)\n",
    "    # Keep pixel values valid\n",
    "    return adversarial_image.numpy().reshape(28, 28)\n",
    "# Select a sample image from test set\n",
    "idx = 0 # Choose the first image\n",
    "original_image = x_test[idx]\n",
    "original_label = y_test[idx]\n",
    "# Generate adversarial example\n",
    "epsilon = 0.1\n",
    "adversarial_image = create_adversarial_example(model, original_image, original_label, epsilon)"
   ]
  },
  {
   "cell_type": "raw",
   "id": "b9e58855-49f0-4b48-a501-29955d8ba86d",
   "metadata": {},
   "source": [
    "6. Compare Original and Adversarial Image"
   ]
  },
  {
   "cell_type": "code",
   "execution_count": 15,
   "id": "87e8ce69-8527-499c-bfd8-f0e1f31f3b65",
   "metadata": {},
   "outputs": [
    {
     "name": "stdout",
     "output_type": "stream",
     "text": [
      "\u001b[1m1/1\u001b[0m \u001b[32m━━━━━━━━━━━━━━━━━━━━\u001b[0m\u001b[37m\u001b[0m \u001b[1m0s\u001b[0m 268ms/step\n",
      "\u001b[1m1/1\u001b[0m \u001b[32m━━━━━━━━━━━━━━━━━━━━\u001b[0m\u001b[37m\u001b[0m \u001b[1m0s\u001b[0m 104ms/step\n"
     ]
    },
    {
     "data": {
      "image/png": "[encoded data removed]",
      "text/plain": [
       "<Figure size 1000x500 with 2 Axes>"
      ]
     },
     "metadata": {},
     "output_type": "display_data"
    }
   ],
   "source": [
    "# Predict the class for both images\n",
    "original_pred = np.argmax(model.predict(original_image.reshape(1, 28, 28)))\n",
    "adversarial_pred = np.argmax(model.predict(adversarial_image.reshape(1, 28, 28)))\n",
    "# Plot the images\n",
    "plt.figure(figsize=(10, 5))\n",
    "plt.subplot(1, 2, 1)\n",
    "plt.imshow(original_image, cmap=\"gray\")\n",
    "plt.title(f\"Original: {original_pred}\")\n",
    "plt.axis(\"off\")\n",
    "plt.subplot(1, 2, 2)\n",
    "plt.imshow(adversarial_image, cmap=\"gray\")\n",
    "plt.title(f\"Adversarial: {adversarial_pred}\")\n",
    "plt.axis(\"off\")\n",
    "plt.show()"
   ]
  },
  {
   "cell_type": "code",
   "execution_count": null,
   "id": "bbc2b336-69d2-4403-9e4c-d4979f8d7836",
   "metadata": {},
   "outputs": [],
   "source": []
  }
 ],
 "metadata": {
  "kernelspec": {
   "display_name": "Python 3 (ipykernel)",
   "language": "python",
   "name": "python3"
  },
  "language_info": {
   "codemirror_mode": {
    "name": "ipython",
    "version": 3
   },
   "file_extension": ".py",
   "mimetype": "text/x-python",
   "name": "python",
   "nbconvert_exporter": "python",
   "pygments_lexer": "ipython3",
   "version": "3.12.3"
  }
 },
 "nbformat": 4,
 "nbformat_minor": 5
}
